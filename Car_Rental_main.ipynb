{
 "cells": [
  {
   "cell_type": "code",
   "execution_count": 2,
   "metadata": {
    "slideshow": {
     "slide_type": "slide"
    },
    "tags": [
     "parameters"
    ]
   },
   "outputs": [
    {
     "name": "stdout",
     "output_type": "stream",
     "text": [
      " \n",
      "        --------------------< Car Rental Shop >----------------------\n",
      "        1. Display available Cars.\n",
      "        2. Request a Car on Hourly Basis at the rate of $5 per hour.\n",
      "        3. Request a Car on Daily Basis at the rate of $20 per day.\n",
      "        4. Request a Car on Weekly Basis at the rate of $60 per week.\n",
      "        5. Return a Car.\n",
      "        6. Exit\n",
      "            \n",
      "Thank you for using the car rental system:)\n"
     ]
    }
   ],
   "source": [
    "from Car_Rental_Module import CarRental, Customer\n",
    "\n",
    "def main():\n",
    "    shop = CarRental(100)\n",
    "    customer = Customer()\n",
    "\n",
    "    while True:\n",
    "        print(\"\"\" \n",
    "        --------------------< Car Rental Shop >----------------------\n",
    "        1. Display available Cars.\n",
    "        2. Request a Car on Hourly Basis at the rate of $5 per hour.\n",
    "        3. Request a Car on Daily Basis at the rate of $20 per day.\n",
    "        4. Request a Car on Weekly Basis at the rate of $60 per week.\n",
    "        5. Return a Car.\n",
    "        6. Exit\n",
    "            \"\"\")\n",
    "\n",
    "        choice = input(\"Enter your Choice: \")\n",
    "\n",
    "        try:\n",
    "            choice = int(choice)\n",
    "        except ValueError:\n",
    "            print(\"That's not an Integer Value...\")\n",
    "            continue\n",
    "\n",
    "        if choice == 1:\n",
    "            shop.displaystock()\n",
    "\n",
    "        elif choice == 2:\n",
    "            customer.RentalTime = shop.rent_car_on_hourlybasis(customer.requestCar())\n",
    "            customer.RentalBasis = 1\n",
    "        \n",
    "        elif choice == 3:\n",
    "            customer.RentalTime = shop.rent_car_on_dailybasis(customer.requestCar())\n",
    "            customer.RentalBasis = 2\n",
    "\n",
    "        elif choice == 4:\n",
    "            customer.RentalTime = shop.rent_car_on_weeklybasis(customer.requestCar())\n",
    "            customer.RentalBasis = 3\n",
    "\n",
    "        elif choice == 5:\n",
    "            customer.Bill = shop.return_Car(customer.return_Car())\n",
    "            customer.RentalBasis, customer.RentalTime, customer.Cars = 0,0,0\n",
    "        elif choice == 6:\n",
    "            break\n",
    "        \n",
    "        else:\n",
    "            print(\"Invalid Input... Please enter number between 1-6\")\n",
    "    print(\"Thank you for using the car rental system:)\")\n",
    "\n",
    "if __name__==\"__main__\":\n",
    "    main()"
   ]
  },
  {
   "cell_type": "code",
   "execution_count": null,
   "metadata": {},
   "outputs": [],
   "source": []
  }
 ],
 "metadata": {
  "kernelspec": {
   "display_name": "Python 3",
   "language": "python",
   "name": "python3"
  },
  "language_info": {
   "codemirror_mode": {
    "name": "ipython",
    "version": 3
   },
   "file_extension": ".py",
   "mimetype": "text/x-python",
   "name": "python",
   "nbconvert_exporter": "python",
   "pygments_lexer": "ipython3",
   "version": "3.11.5"
  }
 },
 "nbformat": 4,
 "nbformat_minor": 2
}

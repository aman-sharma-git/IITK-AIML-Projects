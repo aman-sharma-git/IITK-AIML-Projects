{
  "nbformat": 4,
  "nbformat_minor": 0,
  "metadata": {
    "colab": {
      "provenance": []
    },
    "kernelspec": {
      "name": "python3",
      "display_name": "Python 3"
    },
    "language_info": {
      "name": "python"
    }
  },
  "cells": [
    {
      "cell_type": "markdown",
      "source": [
        "\n",
        "# **Course-End Project: MLB Digital Platform Enhancement**\n",
        "### *Problem Statement:*\n",
        "The Major League Baseball (MLB) is a famous league with one of the highest viewership. They are planning to update their digital platform for faster load times and superior user experience. As part of the development team, you have to support the backend development. You are required to create modules to manage player statistics, match schedules, ticket bookings, and other activities.\n",
        "\n",
        "### *Objectives:*\n",
        "\n",
        "- To design and implement a backend system for MLB's digital platform\n",
        "- To create and manage player statistics, match schedules, ticket bookings, and team management\n",
        "- To implement a multi-threaded report generation system for performance efficiency\n",
        "\n",
        "\n",
        "### *Steps to Perform:*\n",
        "### 1. Player Management System:\n",
        "- Design the Player class with specified attributes and methods\n",
        "- Implement methods to update and retrieve player statistics\n",
        "\n",
        "### 2. Match Schedule Management:\n",
        "- Design the Schedule class with specified attributes and methods\n",
        "- Implement methods to update and retrieve match details\n",
        "\n",
        "### 3. Ticket Booking System:\n",
        "- Design the Ticket class with specified attributes and methods\n",
        "- Implement methods to book, cancel, and retrieve ticket details\n",
        "\n",
        "### 4. Team Management System:\n",
        "- Design the Team class with specified attributes and methods\n",
        "- Implement methods to manage team rosters\n",
        "\n",
        "### 5. Booking Management System:\n",
        "- Design the Booking class with specified attributes and methods\n",
        "- Implement methods to manage ticket bookings\n",
        "\n",
        "### 6. Multi-Threaded Report Generation:\n",
        "- Design the MLB Backend class with specified attributes and methods\n",
        "- Implement a multi-threaded report generation system for player statistics\n",
        "\n",
        "---"
      ],
      "metadata": {
        "id": "wr_PxpeFQY-y"
      }
    },
    {
      "cell_type": "markdown",
      "source": [
        "# **MLB Backend System Development**"
      ],
      "metadata": {
        "id": "tZIlYGfjLmkZ"
      }
    },
    {
      "cell_type": "markdown",
      "source": [
        "#### Player Management System\n",
        "The `Player` class is designed to manage player information and statistics."
      ],
      "metadata": {
        "id": "MkRUShcWLywZ"
      }
    },
    {
      "cell_type": "code",
      "execution_count": 1,
      "metadata": {
        "id": "T7Zud_QFLiL0"
      },
      "outputs": [],
      "source": [
        "class Player:\n",
        "    def __init__(self, player_id, name, team):\n",
        "        self.player_id = player_id\n",
        "        self.name = name\n",
        "        self.team = team\n",
        "        self.statistics = {}\n",
        "\n",
        "    def update_team(self, new_team):\n",
        "        self.team = new_team\n",
        "\n",
        "    def update_statistics(self, stat_key, stat_value):\n",
        "        self.statistics[stat_key] = stat_value\n",
        "\n",
        "    def get_statistics(self):\n",
        "        return self.statistics"
      ]
    },
    {
      "cell_type": "markdown",
      "source": [
        "#### Match Schedule Management\n",
        "The `Schedule` class is designed to manage match schedules."
      ],
      "metadata": {
        "id": "1qS2xlirMoJE"
      }
    },
    {
      "cell_type": "code",
      "source": [
        "class Schedule:\n",
        "    def __init__(self, match_id, teams, date, location):\n",
        "        self.match_id = match_id\n",
        "        self.teams = teams\n",
        "        self.date = date\n",
        "        self.location = location\n",
        "\n",
        "    def update_date(self, new_date):\n",
        "        self.date = new_date\n",
        "\n",
        "    def update_location(self, new_location):\n",
        "        self.location = new_location\n",
        "\n",
        "    def get_deatils(self):\n",
        "        return{\n",
        "            'match_id': self.match_id,\n",
        "            'teams': self.teams,\n",
        "            'date': self.date,\n",
        "            'location': self.location\n",
        "        }"
      ],
      "metadata": {
        "id": "yG7Jc95ZMnFq"
      },
      "execution_count": 2,
      "outputs": []
    },
    {
      "cell_type": "markdown",
      "source": [
        "#### Ticket Booking System\n",
        "The Ticket class is designed to manage ticket bookings."
      ],
      "metadata": {
        "id": "4AM7qqSWNwvH"
      }
    },
    {
      "cell_type": "code",
      "source": [
        "class Ticket:\n",
        "    def __init__(self,ticket_id, match_id, seat_number, price):\n",
        "        self.ticket_id = ticket_id\n",
        "        self.match_id = match_id\n",
        "        self.seat_number = seat_number\n",
        "        self.price = price\n",
        "        self.buyer_id = None\n",
        "\n",
        "    def book_ticket(self, buyer_id):\n",
        "        self.buyer_id = buyer_id\n",
        "\n",
        "    def cancel_ticket(self):\n",
        "        self.buyer_id = None\n",
        "\n",
        "    def get_ticket_details(self):\n",
        "        return{\n",
        "            'ticket_id': self.ticket_id,\n",
        "            'match_id': self.match_id,\n",
        "            'seat_number': self.seat_number,\n",
        "            'price': self.price,\n",
        "            'buyer_id': self.buyer_id\n",
        "        }"
      ],
      "metadata": {
        "id": "4R3RTE4iNuDd"
      },
      "execution_count": 3,
      "outputs": []
    },
    {
      "cell_type": "markdown",
      "source": [
        "#### Team Management System\n",
        "The Team class is designed to manage team information."
      ],
      "metadata": {
        "id": "65Uo3zp5PK8d"
      }
    },
    {
      "cell_type": "code",
      "source": [
        "class Team:\n",
        "    def __init__(self, team_id, name):\n",
        "        self.team_id = team_id\n",
        "        self.name = name\n",
        "        self.players = []\n",
        "\n",
        "    def add_player(self, player_id):\n",
        "        if player_id not in self.players:\n",
        "            self.players.append(player_id)\n",
        "\n",
        "    def remove_player(self, player_id):\n",
        "        if player_id in self.players:\n",
        "            self.players.remove(player_id)\n",
        "\n",
        "    def list_players(self):\n",
        "        return self.players"
      ],
      "metadata": {
        "id": "Sj4RC4VtPIW2"
      },
      "execution_count": 4,
      "outputs": []
    },
    {
      "cell_type": "markdown",
      "source": [
        "#### Booking Management System\n",
        "The Booking class is designed to manage ticket bookings for matches."
      ],
      "metadata": {
        "id": "T5jj3Dw4PQS2"
      }
    },
    {
      "cell_type": "code",
      "source": [
        "class Booking:\n",
        "    def __init__(self):\n",
        "        self.bookings = {}\n",
        "\n",
        "    def book_ticket(self, match_id, ticket_id):\n",
        "        if match_id in self.bookings:\n",
        "            self.bookings[match_id].append(ticket_id)\n",
        "        else:\n",
        "            self.bookings[match_id] = [ticket_id]\n",
        "\n",
        "    def cancel_ticket(self, match_id, ticket_id):\n",
        "        if match_id in self.bookings and ticket_id in self.bookings[match_id]:\n",
        "            self.bookings[match_id].remove(ticket_id)\n",
        "\n",
        "    def get_tickets(self, match_id):\n",
        "        return self.bookings.get(match_id, [])\n",
        "\n",
        "    def get_matches(self, ticket_id):\n",
        "        matches = []\n",
        "        for match_id, tickets in self.bookings.items():\n",
        "            if ticket_id in tickets:\n",
        "                matches.append(match_id)\n",
        "        return matches"
      ],
      "metadata": {
        "id": "T9pUbLx0POS4"
      },
      "execution_count": 6,
      "outputs": []
    },
    {
      "cell_type": "markdown",
      "source": [
        "#### Multi-threaded Report Generation\n",
        "The MLBBackend class integrates all the components and includes multi-threaded report generation."
      ],
      "metadata": {
        "id": "a0P6dtc_PXNL"
      }
    },
    {
      "cell_type": "code",
      "source": [
        "import threading\n",
        "\n",
        "# MLBBackend Class with Multithreading\n",
        "class MLBBackend:\n",
        "    def __init__(self):\n",
        "        self.players = {}\n",
        "        self.schedules = {}\n",
        "        self.tickets = {}\n",
        "        self.teams = {}\n",
        "        self.bookings = Booking()\n",
        "        self.report = {}\n",
        "\n",
        "    def add_player(self, player):\n",
        "        self.players[player.player_id] = player\n",
        "\n",
        "    def add_team(self, team):\n",
        "        self.teams[team.team_id] = team\n",
        "\n",
        "    def add_schedule(self, schedule):\n",
        "        self.schedules[schedule.match_id] = schedule\n",
        "\n",
        "    def add_ticket(self, ticket):\n",
        "        self.tickets[ticket.ticket_id] = ticket\n",
        "\n",
        "    def book_ticket(self, ticket_id, buyer_id):\n",
        "        ticket = self.tickets.get(ticket_id)\n",
        "        if ticket:\n",
        "            ticket.book_ticket(buyer_id)\n",
        "            self.bookings.book_ticket(ticket.match_id, ticket_id)\n",
        "\n",
        "    def _generate_player_report(self, player_id):\n",
        "        player = self.players[player_id]\n",
        "        self.report[player_id] = player.get_statistics()\n",
        "\n",
        "    def generate_statistics_report(self):\n",
        "        self.report = {}\n",
        "        threads = []\n",
        "\n",
        "        for player_id in self.players:\n",
        "            thread = threading.Thread(target=self._generate_player_report, args=(player_id,))\n",
        "            threads.append(thread)\n",
        "            thread.start()\n",
        "\n",
        "        for thread in threads:\n",
        "            thread.join()\n",
        "\n",
        "        return self.report"
      ],
      "metadata": {
        "id": "kBx3yUGvPUDu"
      },
      "execution_count": 7,
      "outputs": []
    },
    {
      "cell_type": "markdown",
      "source": [
        "#### Example Usage\n",
        "The following example demonstrates how to use the implemented classes to manage the MLB backend system."
      ],
      "metadata": {
        "id": "FVwLERsnPdLr"
      }
    },
    {
      "cell_type": "code",
      "source": [
        "if __name__ == \"__main__\":\n",
        "    # Initialize backend\n",
        "    mlb_backend = MLBBackend()\n",
        "\n",
        "    # Add some players\n",
        "    player1 = Player(player_id=1, name=\"Player One\", team=\"Team A\")\n",
        "    player2 = Player(player_id=2, name=\"Player Two\", team=\"Team B\")\n",
        "\n",
        "    mlb_backend.add_player(player1)\n",
        "    mlb_backend.add_player(player2)\n",
        "\n",
        "    # Update player statistics\n",
        "    player1.update_statistics(\"runs\", 5)\n",
        "    player2.update_statistics(\"hits\", 10)\n",
        "\n",
        "    # Add a team\n",
        "    team_a = Team(team_id=1, name=\"Team A\")\n",
        "    mlb_backend.add_team(team_a)\n",
        "\n",
        "    # Add players to team\n",
        "    team_a.add_player(player1.player_id)\n",
        "    team_a.add_player(player2.player_id)\n",
        "\n",
        "    # Add a match schedule\n",
        "    schedule1 = Schedule(match_id=1, teams=[\"Team A\", \"Team B\"], date=\"2024-06-01\", location=\"Stadium 1\")\n",
        "    mlb_backend.add_schedule(schedule1)\n",
        "\n",
        "    # Book a ticket\n",
        "    ticket1 = Ticket(ticket_id=1, match_id=1, seat_number=\"A1\", price=100)\n",
        "    mlb_backend.add_ticket(ticket1)\n",
        "    mlb_backend.book_ticket(ticket_id=1, buyer_id=101)\n",
        "\n",
        "    # Generate statistics report\n",
        "    report = mlb_backend.generate_statistics_report()\n",
        "    print(report)"
      ],
      "metadata": {
        "colab": {
          "base_uri": "https://localhost:8080/",
          "height": 0
        },
        "id": "DbZa7RnhPcJd",
        "outputId": "bee637ac-a542-4ade-8083-b456ab5c0979"
      },
      "execution_count": 8,
      "outputs": [
        {
          "output_type": "stream",
          "name": "stdout",
          "text": [
            "{1: {'runs': 5}, 2: {'hits': 10}}\n"
          ]
        }
      ]
    },
    {
      "cell_type": "code",
      "source": [],
      "metadata": {
        "id": "tXVqc751P5fY"
      },
      "execution_count": null,
      "outputs": []
    }
  ]
}
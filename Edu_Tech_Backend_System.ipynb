{
  "cells": [
    {
      "cell_type": "markdown",
      "metadata": {
        "id": "y_GDAcXYv_HU"
      },
      "source": [
        "# *Edu Tech Backend System*"
      ]
    },
    {
      "cell_type": "markdown",
      "metadata": {
        "id": "4_sN4DhswKSJ"
      },
      "source": [
        "## Create a 'User' class :"
      ]
    },
    {
      "cell_type": "code",
      "execution_count": 1,
      "metadata": {
        "id": "gUrZLZtSveke"
      },
      "outputs": [],
      "source": [
        "class User:\n",
        "    def __init__(self, user_id, name, email, password):\n",
        "        \"\"\"\n",
        "        Initializes a User object with user ID, name, email, and password.\n",
        "        \"\"\"\n",
        "        self.user_id = user_id\n",
        "        self.name = name\n",
        "        self.email = email\n",
        "        self.password = password\n",
        "\n",
        "    def update_email(self, new_email):\n",
        "        \"\"\"\n",
        "        Updates the email address of the user.\n",
        "        \"\"\"\n",
        "        self.email = new_email\n",
        "\n",
        "    def update_password(self, new_password):\n",
        "        \"\"\"\n",
        "        Updates the password of the user.\n",
        "        \"\"\"\n",
        "        self.password = new_password\n",
        "\n",
        "    def validate_credentials(self, email, password):\n",
        "        \"\"\"\n",
        "        Validates the user's email and password.\n",
        "        \"\"\"\n",
        "        return self.email == email and self.password == password"
      ]
    },
    {
      "cell_type": "markdown",
      "metadata": {
        "id": "JgEeAOMMxSo8"
      },
      "source": [
        "##Create a 'Learner' class :\n",
        "\n",
        "- Design the Learner class that inherits from User.\n",
        "- Implement methods to enroll in and drop courses."
      ]
    },
    {
      "cell_type": "code",
      "execution_count": 2,
      "metadata": {
        "id": "vmjqTGHNxRky"
      },
      "outputs": [],
      "source": [
        "class Learner(User):\n",
        "    def __init__(self, user_id, name, email, password):\n",
        "        \"\"\"\n",
        "        Initializes a Learner object that inherits from User and adds an enrolled_courses attribute.\n",
        "        \"\"\"\n",
        "        super().__init__(user_id, name, email, password)\n",
        "        self.enrolled_courses = []\n",
        "\n",
        "    def enroll_in_course(self, course):\n",
        "        \"\"\"\n",
        "        Enrolls the learner in a course.\n",
        "        \"\"\"\n",
        "        self.enrolled_courses.append(course)\n",
        "\n",
        "    def drop_course(self, course):\n",
        "        \"\"\"\n",
        "        Drops the learner from a course.\n",
        "        \"\"\"\n",
        "        self.enrolled_courses.remove(course)"
      ]
    },
    {
      "cell_type": "markdown",
      "metadata": {
        "id": "D8t9THksyn8A"
      },
      "source": [
        "## Define the Instructor class :\n",
        "   -  Design the Instructor class that inherits from User.\n",
        "\n",
        "   - Implement methods to add and remove courses taught by the\n",
        "instructor."
      ]
    },
    {
      "cell_type": "code",
      "execution_count": 3,
      "metadata": {
        "id": "wHBOjPxtymCU"
      },
      "outputs": [],
      "source": [
        "class Instructor(User):\n",
        "    def __init__(self, user_id, name, email, password):\n",
        "        \"\"\"\n",
        "        Initializes an Instructor object that inherits from User and adds a courses_taught attribute.\n",
        "        \"\"\"\n",
        "        super().__init__(user_id, name, email, password)\n",
        "        self.courses_taught = []\n",
        "\n",
        "    def add_course(self, course):\n",
        "        \"\"\"\n",
        "        Adds a course to the list of courses taught by the instructor.\n",
        "        \"\"\"\n",
        "        self.courses_taught.append(course)\n",
        "\n",
        "    def remove_course(self, course):\n",
        "        \"\"\"\n",
        "        Removes a course from the list of courses taught by the instructor.\n",
        "        \"\"\"\n",
        "        self.courses_taught.remove(course)"
      ]
    },
    {
      "cell_type": "markdown",
      "metadata": {
        "id": "0X4cF5lxzqz3"
      },
      "source": [
        "## Define the Course Class:\n",
        "- Design the Course class with specified attributes and methods.\n",
        "- Implement methods to add, remove, and list learners."
      ]
    },
    {
      "cell_type": "code",
      "execution_count": 4,
      "metadata": {
        "id": "d9Co6O34zoF2"
      },
      "outputs": [],
      "source": [
        "class Course:\n",
        "    def __init__(self, course_id, course_name):\n",
        "        \"\"\"\n",
        "        Initializes a Course object with course ID and course name, and adds a learners attribute.\n",
        "        \"\"\"\n",
        "        self.course_id = course_id\n",
        "        self.course_name = course_name\n",
        "        self.learners = []\n",
        "\n",
        "    def add_learner(self, learner):\n",
        "        \"\"\"\n",
        "        Adds a learner to the course.\n",
        "        \"\"\"\n",
        "        self.learners.append(learner)\n",
        "\n",
        "    def remove_learner(self, learner):\n",
        "        \"\"\"\n",
        "        Removes a learner from the course.\n",
        "        \"\"\"\n",
        "        self.learners.remove(learner)\n",
        "\n",
        "    def list_learners(self):\n",
        "        \"\"\"\n",
        "        Lists all learners enrolled in the course.\n",
        "        \"\"\"\n",
        "        return [learner.name for learner in self.learners]"
      ]
    },
    {
      "cell_type": "markdown",
      "metadata": {
        "id": "EqvVuoFt1CR0"
      },
      "source": [
        "## Create the Enrollment Class:\n",
        "- Design the Enrollment class with specified attributes and methods.\n",
        "- Implement methods to manage course enrollments."
      ]
    },
    {
      "cell_type": "code",
      "execution_count": 5,
      "metadata": {
        "id": "vAykur-S00x0"
      },
      "outputs": [],
      "source": [
        "class Enrollment:\n",
        "    def __init__(self, enrollment_id, learner, course):\n",
        "        \"\"\"\n",
        "        Initializes an Enrollment object with enrollment ID, learner, and course.\n",
        "        \"\"\"\n",
        "        self.enrollment_id = enrollment_id\n",
        "        self.learner = learner\n",
        "        self.course = course\n",
        "\n",
        "    def enroll(self):\n",
        "        \"\"\"\n",
        "        Enrolls the learner in the course.\n",
        "        \"\"\"\n",
        "        self.course.add_learner(self.learner)\n",
        "        self.learner.enroll_in_course(self.course)\n",
        "\n",
        "    def drop(self):\n",
        "        \"\"\"\n",
        "        Drops the learner from the course.\n",
        "        \"\"\"\n",
        "        self.course.remove_learner(self.learner)\n",
        "        self.learner.drop_course(self.course)"
      ]
    },
    {
      "cell_type": "markdown",
      "metadata": {
        "id": "SqNtYqGO2N5w"
      },
      "source": [
        "## Integrate All Modules into the Backend:\n",
        "- Design the SLTechBackend class with specified attributes and\n",
        "methods.\n",
        "- Implement methods to manage users, courses, and enrollments.\n",
        "- Implement methods to retrieve enrolled learners and courses."
      ]
    },
    {
      "cell_type": "code",
      "execution_count": 6,
      "metadata": {
        "id": "htaJbCF72M9v"
      },
      "outputs": [],
      "source": [
        "class SLTechBackend:\n",
        "    def __init__(self):\n",
        "        \"\"\"\n",
        "        Initializes the SLTechBackend object with dictionaries to store users, courses, and enrollments.\n",
        "        \"\"\"\n",
        "        self.users = {}\n",
        "        self.courses = {}\n",
        "        self.enrollments = {}\n",
        "\n",
        "    def add_user(self, user):\n",
        "        \"\"\"\n",
        "        Adds a user to the backend system.\n",
        "        \"\"\"\n",
        "        self.users[user.user_id] = user\n",
        "\n",
        "    def add_course(self, course):\n",
        "        \"\"\"\n",
        "        Adds a course to the backend system.\n",
        "        \"\"\"\n",
        "        self.courses[course.course_id] = course\n",
        "\n",
        "    def add_enrollment(self, enrollment):\n",
        "        \"\"\"\n",
        "        Adds an enrollment to the backend system and enrolls the learner in the course.\n",
        "        \"\"\"\n",
        "        self.enrollments[enrollment.enrollment_id] = enrollment\n",
        "        enrollment.enroll()\n",
        "\n",
        "    def get_enrolled_learners(self, course_id):\n",
        "        \"\"\"\n",
        "        Retrieves a list of learners enrolled in a specific course.\n",
        "        \"\"\"\n",
        "        course = self.courses.get(course_id)\n",
        "        if course:\n",
        "            return course.list_learners()\n",
        "        return []\n",
        "\n",
        "    def get_enrolled_courses(self, learner_id):\n",
        "        \"\"\"\n",
        "        Retrieves a list of courses a specific learner is enrolled in.\n",
        "        \"\"\"\n",
        "        learner = self.users.get(learner_id)\n",
        "        if isinstance(learner, Learner):\n",
        "            return [course.course_name for course in learner.enrolled_courses]\n",
        "        return []\n"
      ]
    },
    {
      "cell_type": "markdown",
      "metadata": {
        "id": "lrKwYj_29nlV"
      },
      "source": [
        "## Add User Input Handling:\n",
        "- Implement interactive functions to handle user input for adding\n",
        "users, courses, and enrollments."
      ]
    },
    {
      "cell_type": "code",
      "execution_count": 7,
      "metadata": {
        "colab": {
          "base_uri": "https://localhost:8080/"
        },
        "id": "QfDLVpMw9km4",
        "outputId": "1062a361-f11d-4ad5-a870-363f9039072c"
      },
      "outputs": [
        {
          "output_type": "stream",
          "name": "stdout",
          "text": [
            "1. Add User\n",
            "2. Add Course\n",
            "3. Enroll Learner in Course\n",
            "4. View Enrolled Learners in a Course\n",
            "5. View Courses a Learner is Enrolled In\n",
            "6. Exit\n",
            "Enter your choice: 1\n",
            "Enter user ID: 1234321\n",
            "Enter name: Aman\n",
            "Enter email: aman@gmail.com\n",
            "Enter password: 1234321\n",
            "Enter role (learner/instructor): instructor\n",
            "User added successfully!\n",
            "1. Add User\n",
            "2. Add Course\n",
            "3. Enroll Learner in Course\n",
            "4. View Enrolled Learners in a Course\n",
            "5. View Courses a Learner is Enrolled In\n",
            "6. Exit\n",
            "Enter your choice: 1\n",
            "Enter user ID: 12321\n",
            "Enter name: Rohan \n",
            "Enter email: rohan@gmai.com\n",
            "Enter password: 12321\n",
            "Enter role (learner/instructor): learner\n",
            "User added successfully!\n",
            "1. Add User\n",
            "2. Add Course\n",
            "3. Enroll Learner in Course\n",
            "4. View Enrolled Learners in a Course\n",
            "5. View Courses a Learner is Enrolled In\n",
            "6. Exit\n",
            "Enter your choice: 1\n",
            "Enter user ID: 123321\n",
            "Enter name: Sohan\n",
            "Enter email: sohan@gmail.com\n",
            "Enter password: 123321\n",
            "Enter role (learner/instructor): learner\n",
            "User added successfully!\n",
            "1. Add User\n",
            "2. Add Course\n",
            "3. Enroll Learner in Course\n",
            "4. View Enrolled Learners in a Course\n",
            "5. View Courses a Learner is Enrolled In\n",
            "6. Exit\n",
            "Enter your choice: 2\n",
            "Enter course ID: 98765\n",
            "Enter course name: IITK AIML\n",
            "Course added successfully!\n",
            "1. Add User\n",
            "2. Add Course\n",
            "3. Enroll Learner in Course\n",
            "4. View Enrolled Learners in a Course\n",
            "5. View Courses a Learner is Enrolled In\n",
            "6. Exit\n",
            "Enter your choice: 2\n",
            "Enter course ID: 56789\n",
            "Enter course name: Data Analyst\n",
            "Course added successfully!\n",
            "1. Add User\n",
            "2. Add Course\n",
            "3. Enroll Learner in Course\n",
            "4. View Enrolled Learners in a Course\n",
            "5. View Courses a Learner is Enrolled In\n",
            "6. Exit\n",
            "Enter your choice: 3\n",
            "Enter enrollment ID: 12345678\n",
            "Enter learner ID: 123321\n",
            "Enter course ID: 56789\n",
            "Learner enrolled in course successfully!\n",
            "1. Add User\n",
            "2. Add Course\n",
            "3. Enroll Learner in Course\n",
            "4. View Enrolled Learners in a Course\n",
            "5. View Courses a Learner is Enrolled In\n",
            "6. Exit\n",
            "Enter your choice: 3\n",
            "Enter enrollment ID: 87654321\n",
            "Enter learner ID: 12321\n",
            "Enter course ID: 98765\n",
            "Learner enrolled in course successfully!\n",
            "1. Add User\n",
            "2. Add Course\n",
            "3. Enroll Learner in Course\n",
            "4. View Enrolled Learners in a Course\n",
            "5. View Courses a Learner is Enrolled In\n",
            "6. Exit\n",
            "Enter your choice: 4\n",
            "Enter course ID: 98765\n",
            "Enrolled learners in course: ['Rohan ']\n",
            "1. Add User\n",
            "2. Add Course\n",
            "3. Enroll Learner in Course\n",
            "4. View Enrolled Learners in a Course\n",
            "5. View Courses a Learner is Enrolled In\n",
            "6. Exit\n",
            "Enter your choice: 5\n",
            "Enter learner ID: 123321\n",
            "Courses the learner is enrolled in: ['Data Analyst']\n",
            "1. Add User\n",
            "2. Add Course\n",
            "3. Enroll Learner in Course\n",
            "4. View Enrolled Learners in a Course\n",
            "5. View Courses a Learner is Enrolled In\n",
            "6. Exit\n",
            "Enter your choice: 7\n",
            "Invalid choice! Please try again.\n",
            "1. Add User\n",
            "2. Add Course\n",
            "3. Enroll Learner in Course\n",
            "4. View Enrolled Learners in a Course\n",
            "5. View Courses a Learner is Enrolled In\n",
            "6. Exit\n",
            "Enter your choice: 6\n",
            "Exiting the program.\n"
          ]
        }
      ],
      "source": [
        "def main():\n",
        "    \"\"\"\n",
        "    Main function to handle user input and manage the backend system.\n",
        "    \"\"\"\n",
        "    backend = SLTechBackend()\n",
        "\n",
        "    while True:\n",
        "        # Display menu options\n",
        "        print(\"1. Add User\")\n",
        "        print(\"2. Add Course\")\n",
        "        print(\"3. Enroll Learner in Course\")\n",
        "        print(\"4. View Enrolled Learners in a Course\")\n",
        "        print(\"5. View Courses a Learner is Enrolled In\")\n",
        "        print(\"6. Exit\")\n",
        "\n",
        "        # Get user choice\n",
        "        choice = input(\"Enter your choice: \")\n",
        "\n",
        "        if choice == '1':\n",
        "            # Add User\n",
        "            user_id = int(input(\"Enter user ID: \"))\n",
        "            name = input(\"Enter name: \")\n",
        "            email = input(\"Enter email: \")\n",
        "            password = input(\"Enter password: \")\n",
        "            role = input(\"Enter role (learner/instructor): \")\n",
        "            if role == \"learner\":\n",
        "                user = Learner(user_id, name, email, password)\n",
        "            elif role == \"instructor\":\n",
        "                user = Instructor(user_id, name, email, password)\n",
        "            else:\n",
        "                print(\"Invalid role!\")\n",
        "                continue\n",
        "            backend.add_user(user)\n",
        "            print(\"User added successfully!\")\n",
        "\n",
        "        elif choice == '2':\n",
        "            # Add Course\n",
        "            course_id = int(input(\"Enter course ID: \"))\n",
        "            course_name = input(\"Enter course name: \")\n",
        "            course = Course(course_id, course_name)\n",
        "            backend.add_course(course)\n",
        "            print(\"Course added successfully!\")\n",
        "\n",
        "        elif choice == '3':\n",
        "            # Enroll Learner in Course\n",
        "            enrollment_id = int(input(\"Enter enrollment ID: \"))\n",
        "            learner_id = int(input(\"Enter learner ID: \"))\n",
        "            course_id = int(input(\"Enter course ID: \"))\n",
        "            learner = backend.users.get(learner_id)\n",
        "            course = backend.courses.get(course_id)\n",
        "            if learner and course and isinstance(learner, Learner):\n",
        "                enrollment = Enrollment(enrollment_id, learner, course)\n",
        "                backend.add_enrollment(enrollment)\n",
        "                print(\"Learner enrolled in course successfully!\")\n",
        "            else:\n",
        "                print(\"Invalid learner ID or course ID!\")\n",
        "\n",
        "        elif choice == '4':\n",
        "            # View Enrolled Learners in a Course\n",
        "            course_id = int(input(\"Enter course ID: \"))\n",
        "            learners = backend.get_enrolled_learners(course_id)\n",
        "            print(\"Enrolled learners in course:\", learners)\n",
        "\n",
        "        elif choice == '5':\n",
        "            # View Courses a Learner is Enrolled In\n",
        "            learner_id = int(input(\"Enter learner ID: \"))\n",
        "            courses = backend.get_enrolled_courses(learner_id)\n",
        "            print(\"Courses the learner is enrolled in:\", courses)\n",
        "\n",
        "        elif choice == '6':\n",
        "            # Exit the program\n",
        "            print(\"Exiting the program.\")\n",
        "            break\n",
        "\n",
        "        else:\n",
        "            # Invalid choice\n",
        "            print(\"Invalid choice! Please try again.\")\n",
        "\n",
        "\n",
        "if __name__ == \"__main__\":\n",
        "    main()"
      ]
    },
    {
      "cell_type": "code",
      "execution_count": null,
      "metadata": {
        "id": "y5TDcHWCIHdL"
      },
      "outputs": [],
      "source": []
    }
  ],
  "metadata": {
    "colab": {
      "provenance": []
    },
    "kernelspec": {
      "display_name": "Python 3",
      "name": "python3"
    },
    "language_info": {
      "codemirror_mode": {
        "name": "ipython",
        "version": 3
      },
      "file_extension": ".py",
      "mimetype": "text/x-python",
      "name": "python",
      "nbconvert_exporter": "python",
      "pygments_lexer": "ipython3",
      "version": "3.11.9"
    }
  },
  "nbformat": 4,
  "nbformat_minor": 0
}